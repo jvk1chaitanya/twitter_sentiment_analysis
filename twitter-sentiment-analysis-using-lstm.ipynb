{
 "cells": [
  {
   "cell_type": "code",
   "execution_count": 1,
   "id": "5dd7a897",
   "metadata": {
    "_cell_guid": "b1076dfc-b9ad-4769-8c92-a6c4dae69d19",
    "_uuid": "8f2839f25d086af736a60e9eeb907d3b93b6e0e5",
    "execution": {
     "iopub.execute_input": "2022-08-07T15:32:31.013924Z",
     "iopub.status.busy": "2022-08-07T15:32:31.013443Z",
     "iopub.status.idle": "2022-08-07T15:32:31.032672Z",
     "shell.execute_reply": "2022-08-07T15:32:31.031453Z"
    },
    "papermill": {
     "duration": 0.034265,
     "end_time": "2022-08-07T15:32:31.036297",
     "exception": false,
     "start_time": "2022-08-07T15:32:31.002032",
     "status": "completed"
    },
    "tags": []
   },
   "outputs": [
    {
     "name": "stdout",
     "output_type": "stream",
     "text": [
      "/kaggle/input/twitter-entity-sentiment-analysis/twitter_validation.csv\n",
      "/kaggle/input/twitter-entity-sentiment-analysis/twitter_training.csv\n"
     ]
    }
   ],
   "source": [
    "# This Python 3 environment comes with many helpful analytics libraries installed\n",
    "# It is defined by the kaggle/python Docker image: https://github.com/kaggle/docker-python\n",
    "# For example, here's several helpful packages to load\n",
    "\n",
    "import numpy as np # linear algebra\n",
    "import pandas as pd # data processing, CSV file I/O (e.g. pd.read_csv)\n",
    "\n",
    "# Input data files are available in the read-only \"../input/\" directory\n",
    "# For example, running this (by clicking run or pressing Shift+Enter) will list all files under the input directory\n",
    "\n",
    "import os\n",
    "for dirname, _, filenames in os.walk('/kaggle/input'):\n",
    "    for filename in filenames:\n",
    "        print(os.path.join(dirname, filename))\n",
    "\n",
    "# You can write up to 20GB to the current directory (/kaggle/working/) that gets preserved as output when you create a version using \"Save & Run All\" \n",
    "# You can also write temporary files to /kaggle/temp/, but they won't be saved outside of the current session"
   ]
  },
  {
   "cell_type": "code",
   "execution_count": 2,
   "id": "ff14097b",
   "metadata": {
    "execution": {
     "iopub.execute_input": "2022-08-07T15:32:31.055599Z",
     "iopub.status.busy": "2022-08-07T15:32:31.055048Z",
     "iopub.status.idle": "2022-08-07T15:32:31.440949Z",
     "shell.execute_reply": "2022-08-07T15:32:31.439809Z"
    },
    "papermill": {
     "duration": 0.397712,
     "end_time": "2022-08-07T15:32:31.443574",
     "exception": false,
     "start_time": "2022-08-07T15:32:31.045862",
     "status": "completed"
    },
    "tags": []
   },
   "outputs": [
    {
     "data": {
      "text/html": [
       "<div>\n",
       "<style scoped>\n",
       "    .dataframe tbody tr th:only-of-type {\n",
       "        vertical-align: middle;\n",
       "    }\n",
       "\n",
       "    .dataframe tbody tr th {\n",
       "        vertical-align: top;\n",
       "    }\n",
       "\n",
       "    .dataframe thead th {\n",
       "        text-align: right;\n",
       "    }\n",
       "</style>\n",
       "<table border=\"1\" class=\"dataframe\">\n",
       "  <thead>\n",
       "    <tr style=\"text-align: right;\">\n",
       "      <th></th>\n",
       "      <th>0</th>\n",
       "      <th>1</th>\n",
       "      <th>2</th>\n",
       "      <th>3</th>\n",
       "    </tr>\n",
       "  </thead>\n",
       "  <tbody>\n",
       "    <tr>\n",
       "      <th>0</th>\n",
       "      <td>2401</td>\n",
       "      <td>Borderlands</td>\n",
       "      <td>Positive</td>\n",
       "      <td>im getting on borderlands and i will murder yo...</td>\n",
       "    </tr>\n",
       "    <tr>\n",
       "      <th>1</th>\n",
       "      <td>2401</td>\n",
       "      <td>Borderlands</td>\n",
       "      <td>Positive</td>\n",
       "      <td>I am coming to the borders and I will kill you...</td>\n",
       "    </tr>\n",
       "    <tr>\n",
       "      <th>2</th>\n",
       "      <td>2401</td>\n",
       "      <td>Borderlands</td>\n",
       "      <td>Positive</td>\n",
       "      <td>im getting on borderlands and i will kill you ...</td>\n",
       "    </tr>\n",
       "    <tr>\n",
       "      <th>3</th>\n",
       "      <td>2401</td>\n",
       "      <td>Borderlands</td>\n",
       "      <td>Positive</td>\n",
       "      <td>im coming on borderlands and i will murder you...</td>\n",
       "    </tr>\n",
       "    <tr>\n",
       "      <th>4</th>\n",
       "      <td>2401</td>\n",
       "      <td>Borderlands</td>\n",
       "      <td>Positive</td>\n",
       "      <td>im getting on borderlands 2 and i will murder ...</td>\n",
       "    </tr>\n",
       "  </tbody>\n",
       "</table>\n",
       "</div>"
      ],
      "text/plain": [
       "      0            1         2  \\\n",
       "0  2401  Borderlands  Positive   \n",
       "1  2401  Borderlands  Positive   \n",
       "2  2401  Borderlands  Positive   \n",
       "3  2401  Borderlands  Positive   \n",
       "4  2401  Borderlands  Positive   \n",
       "\n",
       "                                                   3  \n",
       "0  im getting on borderlands and i will murder yo...  \n",
       "1  I am coming to the borders and I will kill you...  \n",
       "2  im getting on borderlands and i will kill you ...  \n",
       "3  im coming on borderlands and i will murder you...  \n",
       "4  im getting on borderlands 2 and i will murder ...  "
      ]
     },
     "execution_count": 2,
     "metadata": {},
     "output_type": "execute_result"
    }
   ],
   "source": [
    "# read training data\n",
    "data = pd.read_csv('/kaggle/input/twitter-entity-sentiment-analysis/twitter_training.csv',header=None)\n",
    "data.head()"
   ]
  },
  {
   "cell_type": "code",
   "execution_count": 3,
   "id": "a0cb653d",
   "metadata": {
    "execution": {
     "iopub.execute_input": "2022-08-07T15:32:31.461702Z",
     "iopub.status.busy": "2022-08-07T15:32:31.461255Z",
     "iopub.status.idle": "2022-08-07T15:32:31.484233Z",
     "shell.execute_reply": "2022-08-07T15:32:31.483049Z"
    },
    "papermill": {
     "duration": 0.034986,
     "end_time": "2022-08-07T15:32:31.486923",
     "exception": false,
     "start_time": "2022-08-07T15:32:31.451937",
     "status": "completed"
    },
    "tags": []
   },
   "outputs": [
    {
     "data": {
      "text/plain": [
       "0      0\n",
       "1      0\n",
       "2      0\n",
       "3    686\n",
       "dtype: int64"
      ]
     },
     "execution_count": 3,
     "metadata": {},
     "output_type": "execute_result"
    }
   ],
   "source": [
    "# finding total null values and deleting them\n",
    "data.isna().sum()"
   ]
  },
  {
   "cell_type": "code",
   "execution_count": 4,
   "id": "10d1585e",
   "metadata": {
    "execution": {
     "iopub.execute_input": "2022-08-07T15:32:31.505650Z",
     "iopub.status.busy": "2022-08-07T15:32:31.504649Z",
     "iopub.status.idle": "2022-08-07T15:32:31.538588Z",
     "shell.execute_reply": "2022-08-07T15:32:31.537318Z"
    },
    "papermill": {
     "duration": 0.04627,
     "end_time": "2022-08-07T15:32:31.541510",
     "exception": false,
     "start_time": "2022-08-07T15:32:31.495240",
     "status": "completed"
    },
    "tags": []
   },
   "outputs": [
    {
     "data": {
      "text/plain": [
       "(73996, 4)"
      ]
     },
     "execution_count": 4,
     "metadata": {},
     "output_type": "execute_result"
    }
   ],
   "source": [
    "data.dropna(inplace=True)\n",
    "data.shape"
   ]
  },
  {
   "cell_type": "code",
   "execution_count": 5,
   "id": "5efa7940",
   "metadata": {
    "execution": {
     "iopub.execute_input": "2022-08-07T15:32:31.561680Z",
     "iopub.status.busy": "2022-08-07T15:32:31.561257Z",
     "iopub.status.idle": "2022-08-07T15:32:31.579021Z",
     "shell.execute_reply": "2022-08-07T15:32:31.577801Z"
    },
    "papermill": {
     "duration": 0.03054,
     "end_time": "2022-08-07T15:32:31.581494",
     "exception": false,
     "start_time": "2022-08-07T15:32:31.550954",
     "status": "completed"
    },
    "tags": []
   },
   "outputs": [
    {
     "data": {
      "text/plain": [
       "Negative      22358\n",
       "Positive      20655\n",
       "Neutral       18108\n",
       "Irrelevant    12875\n",
       "Name: 2, dtype: int64"
      ]
     },
     "execution_count": 5,
     "metadata": {},
     "output_type": "execute_result"
    }
   ],
   "source": [
    "# finding value count of each response in column 2\n",
    "data[2].value_counts()"
   ]
  },
  {
   "cell_type": "code",
   "execution_count": 6,
   "id": "df4006ca",
   "metadata": {
    "execution": {
     "iopub.execute_input": "2022-08-07T15:32:31.600788Z",
     "iopub.status.busy": "2022-08-07T15:32:31.599929Z",
     "iopub.status.idle": "2022-08-07T15:32:31.618773Z",
     "shell.execute_reply": "2022-08-07T15:32:31.617528Z"
    },
    "papermill": {
     "duration": 0.031469,
     "end_time": "2022-08-07T15:32:31.621590",
     "exception": false,
     "start_time": "2022-08-07T15:32:31.590121",
     "status": "completed"
    },
    "tags": []
   },
   "outputs": [
    {
     "data": {
      "text/plain": [
       "(61121, 4)"
      ]
     },
     "execution_count": 6,
     "metadata": {},
     "output_type": "execute_result"
    }
   ],
   "source": [
    "# deleting the irrelevent reviews because it will help to find the sentiment\n",
    "data_2 = data[data[2]!='Irrelevant']\n",
    "data_2.shape"
   ]
  },
  {
   "cell_type": "code",
   "execution_count": 7,
   "id": "91a2564b",
   "metadata": {
    "execution": {
     "iopub.execute_input": "2022-08-07T15:32:31.641331Z",
     "iopub.status.busy": "2022-08-07T15:32:31.640899Z",
     "iopub.status.idle": "2022-08-07T15:32:31.663807Z",
     "shell.execute_reply": "2022-08-07T15:32:31.662062Z"
    },
    "papermill": {
     "duration": 0.036033,
     "end_time": "2022-08-07T15:32:31.666471",
     "exception": false,
     "start_time": "2022-08-07T15:32:31.630438",
     "status": "completed"
    },
    "tags": []
   },
   "outputs": [
    {
     "name": "stderr",
     "output_type": "stream",
     "text": [
      "/opt/conda/lib/python3.7/site-packages/pandas/core/frame.py:4913: SettingWithCopyWarning: \n",
      "A value is trying to be set on a copy of a slice from a DataFrame\n",
      "\n",
      "See the caveats in the documentation: https://pandas.pydata.org/pandas-docs/stable/user_guide/indexing.html#returning-a-view-versus-a-copy\n",
      "  errors=errors,\n"
     ]
    },
    {
     "data": {
      "text/html": [
       "<div>\n",
       "<style scoped>\n",
       "    .dataframe tbody tr th:only-of-type {\n",
       "        vertical-align: middle;\n",
       "    }\n",
       "\n",
       "    .dataframe tbody tr th {\n",
       "        vertical-align: top;\n",
       "    }\n",
       "\n",
       "    .dataframe thead th {\n",
       "        text-align: right;\n",
       "    }\n",
       "</style>\n",
       "<table border=\"1\" class=\"dataframe\">\n",
       "  <thead>\n",
       "    <tr style=\"text-align: right;\">\n",
       "      <th></th>\n",
       "      <th>2</th>\n",
       "      <th>3</th>\n",
       "    </tr>\n",
       "  </thead>\n",
       "  <tbody>\n",
       "    <tr>\n",
       "      <th>0</th>\n",
       "      <td>Positive</td>\n",
       "      <td>im getting on borderlands and i will murder yo...</td>\n",
       "    </tr>\n",
       "    <tr>\n",
       "      <th>1</th>\n",
       "      <td>Positive</td>\n",
       "      <td>I am coming to the borders and I will kill you...</td>\n",
       "    </tr>\n",
       "    <tr>\n",
       "      <th>2</th>\n",
       "      <td>Positive</td>\n",
       "      <td>im getting on borderlands and i will kill you ...</td>\n",
       "    </tr>\n",
       "    <tr>\n",
       "      <th>3</th>\n",
       "      <td>Positive</td>\n",
       "      <td>im coming on borderlands and i will murder you...</td>\n",
       "    </tr>\n",
       "    <tr>\n",
       "      <th>4</th>\n",
       "      <td>Positive</td>\n",
       "      <td>im getting on borderlands 2 and i will murder ...</td>\n",
       "    </tr>\n",
       "  </tbody>\n",
       "</table>\n",
       "</div>"
      ],
      "text/plain": [
       "          2                                                  3\n",
       "0  Positive  im getting on borderlands and i will murder yo...\n",
       "1  Positive  I am coming to the borders and I will kill you...\n",
       "2  Positive  im getting on borderlands and i will kill you ...\n",
       "3  Positive  im coming on borderlands and i will murder you...\n",
       "4  Positive  im getting on borderlands 2 and i will murder ..."
      ]
     },
     "execution_count": 7,
     "metadata": {},
     "output_type": "execute_result"
    }
   ],
   "source": [
    "# drop column 0 & 1 for now as it will not be helpfull to find sentiment\n",
    "data_2.drop(columns=[0,1],inplace=True)\n",
    "data_2.head()"
   ]
  },
  {
   "cell_type": "code",
   "execution_count": 8,
   "id": "550f854e",
   "metadata": {
    "execution": {
     "iopub.execute_input": "2022-08-07T15:32:31.686458Z",
     "iopub.status.busy": "2022-08-07T15:32:31.685666Z",
     "iopub.status.idle": "2022-08-07T15:32:31.692122Z",
     "shell.execute_reply": "2022-08-07T15:32:31.691226Z"
    },
    "papermill": {
     "duration": 0.019014,
     "end_time": "2022-08-07T15:32:31.694376",
     "exception": false,
     "start_time": "2022-08-07T15:32:31.675362",
     "status": "completed"
    },
    "tags": []
   },
   "outputs": [
    {
     "data": {
      "text/plain": [
       "'Eli Whitney Roth International is making a movie based loosely on using the game,.. bit. ly / on 2wv4KHM'"
      ]
     },
     "execution_count": 8,
     "metadata": {},
     "output_type": "execute_result"
    }
   ],
   "source": [
    "# printing a value of new data to check how is sentence defined\n",
    "data_2.iloc[1000,1]"
   ]
  },
  {
   "cell_type": "code",
   "execution_count": 9,
   "id": "225a3c4e",
   "metadata": {
    "execution": {
     "iopub.execute_input": "2022-08-07T15:32:31.714630Z",
     "iopub.status.busy": "2022-08-07T15:32:31.713632Z",
     "iopub.status.idle": "2022-08-07T15:32:34.041259Z",
     "shell.execute_reply": "2022-08-07T15:32:34.040045Z"
    },
    "papermill": {
     "duration": 2.340985,
     "end_time": "2022-08-07T15:32:34.044162",
     "exception": false,
     "start_time": "2022-08-07T15:32:31.703177",
     "status": "completed"
    },
    "tags": []
   },
   "outputs": [
    {
     "name": "stderr",
     "output_type": "stream",
     "text": [
      "[nltk_data] Downloading package omw-1.4 to /usr/share/nltk_data...\n"
     ]
    }
   ],
   "source": [
    "# importing libraries for data cleaning\n",
    "from bs4 import BeautifulSoup \n",
    "import re\n",
    "import nltk\n",
    "nltk.download('omw-1.4')\n",
    "from nltk.corpus import stopwords\n",
    "from nltk.stem import WordNetLemmatizer\n",
    "\n",
    "# removing not and no from stop words as we need them for our model training\n",
    "stopwords = stopwords.words(\"english\")\n",
    "stopwords.remove('not')\n",
    "stopwords.remove('no')\n",
    "\n",
    "# intializing method for lemmatizing words\n",
    "lemmatizer = WordNetLemmatizer()\n",
    "\n",
    "# now creating funtion to clean our data\n",
    "def cleaned_review(review):\n",
    "    # remove any html tags\n",
    "    new_review = BeautifulSoup(review).get_text()\n",
    "    \n",
    "    # remove urls from reviews\n",
    "    no_urls = new_review.replace('http\\S+', '').replace('www\\S+', '')\n",
    "    \n",
    "    # remove any non-letters\n",
    "    clean_review = re.sub(\"[^a-zA-Z]\", \" \", no_urls)\n",
    "    \n",
    "    # convert whole sentence to lowercase and split\n",
    "    new_words = clean_review.lower().split()\n",
    "    \n",
    "    # converting stopwords list to set for faster search\n",
    "    stops = set(stopwords)\n",
    "    \n",
    "    # using stopwords to remove irrelavent words and lemmatizing the final output\n",
    "    final_words = [lemmatizer.lemmatize(word) for word in new_words if not word in stops]\n",
    "    \n",
    "    # return the final result\n",
    "    return (\" \".join(final_words))"
   ]
  },
  {
   "cell_type": "code",
   "execution_count": 10,
   "id": "7d95ba56",
   "metadata": {
    "execution": {
     "iopub.execute_input": "2022-08-07T15:32:34.064555Z",
     "iopub.status.busy": "2022-08-07T15:32:34.063880Z",
     "iopub.status.idle": "2022-08-07T15:32:56.770762Z",
     "shell.execute_reply": "2022-08-07T15:32:56.769582Z"
    },
    "papermill": {
     "duration": 22.720748,
     "end_time": "2022-08-07T15:32:56.774063",
     "exception": false,
     "start_time": "2022-08-07T15:32:34.053315",
     "status": "completed"
    },
    "tags": []
   },
   "outputs": [
    {
     "name": "stderr",
     "output_type": "stream",
     "text": [
      "/opt/conda/lib/python3.7/site-packages/bs4/__init__.py:439: MarkupResemblesLocatorWarning: The input looks more like a filename than markup. You may want to open this file and pass the filehandle into Beautiful Soup.\n",
      "  MarkupResemblesLocatorWarning\n",
      "/opt/conda/lib/python3.7/site-packages/ipykernel_launcher.py:2: SettingWithCopyWarning: \n",
      "A value is trying to be set on a copy of a slice from a DataFrame.\n",
      "Try using .loc[row_indexer,col_indexer] = value instead\n",
      "\n",
      "See the caveats in the documentation: https://pandas.pydata.org/pandas-docs/stable/user_guide/indexing.html#returning-a-view-versus-a-copy\n",
      "  \n"
     ]
    }
   ],
   "source": [
    "# now we will use our funtion to get cleaned data and no. of words\n",
    "data_2['msg'] = data_2[3].apply(lambda x:cleaned_review(x))"
   ]
  },
  {
   "cell_type": "code",
   "execution_count": 11,
   "id": "11f5ae08",
   "metadata": {
    "execution": {
     "iopub.execute_input": "2022-08-07T15:32:56.795666Z",
     "iopub.status.busy": "2022-08-07T15:32:56.795272Z",
     "iopub.status.idle": "2022-08-07T15:32:56.802984Z",
     "shell.execute_reply": "2022-08-07T15:32:56.801567Z"
    },
    "papermill": {
     "duration": 0.020843,
     "end_time": "2022-08-07T15:32:56.805564",
     "exception": false,
     "start_time": "2022-08-07T15:32:56.784721",
     "status": "completed"
    },
    "tags": []
   },
   "outputs": [
    {
     "name": "stdout",
     "output_type": "stream",
     "text": [
      "Eli Whitney Roth International is making a movie based loosely on using the game,.. bit. ly / on 2wv4KHM\n",
      "eli whitney roth international making movie based loosely using game bit ly wv khm\n"
     ]
    }
   ],
   "source": [
    "# comparing our cleaned data with original\n",
    "print(data_2.iloc[1000,1])\n",
    "print(data_2.iloc[1000,2])"
   ]
  },
  {
   "cell_type": "code",
   "execution_count": 12,
   "id": "1ae4fe52",
   "metadata": {
    "execution": {
     "iopub.execute_input": "2022-08-07T15:32:56.826903Z",
     "iopub.status.busy": "2022-08-07T15:32:56.826457Z",
     "iopub.status.idle": "2022-08-07T15:32:57.847529Z",
     "shell.execute_reply": "2022-08-07T15:32:57.846455Z"
    },
    "papermill": {
     "duration": 1.034677,
     "end_time": "2022-08-07T15:32:57.850232",
     "exception": false,
     "start_time": "2022-08-07T15:32:56.815555",
     "status": "completed"
    },
    "tags": []
   },
   "outputs": [
    {
     "name": "stderr",
     "output_type": "stream",
     "text": [
      "/opt/conda/lib/python3.7/site-packages/ipykernel_launcher.py:5: SettingWithCopyWarning: \n",
      "A value is trying to be set on a copy of a slice from a DataFrame.\n",
      "Try using .loc[row_indexer,col_indexer] = value instead\n",
      "\n",
      "See the caveats in the documentation: https://pandas.pydata.org/pandas-docs/stable/user_guide/indexing.html#returning-a-view-versus-a-copy\n",
      "  \"\"\"\n"
     ]
    },
    {
     "data": {
      "image/png": "[encoded data removed]",
      "text/plain": [
       "<Figure size 1440x864 with 1 Axes>"
      ]
     },
     "metadata": {
      "needs_background": "light"
     },
     "output_type": "display_data"
    }
   ],
   "source": [
    "import matplotlib.pyplot as plt\n",
    "import seaborn as sns\n",
    "fig, ax = plt.subplots(figsize=(20, 12))\n",
    "# finding ideal length to use for further process\n",
    "data_2['n_words'] = data_2['msg'].apply(lambda x:len(x.split()))\n",
    "sns.histplot(data = data_2, x='n_words')\n",
    "plt.show()"
   ]
  },
  {
   "cell_type": "code",
   "execution_count": 13,
   "id": "a0e055f5",
   "metadata": {
    "execution": {
     "iopub.execute_input": "2022-08-07T15:32:57.871740Z",
     "iopub.status.busy": "2022-08-07T15:32:57.871325Z",
     "iopub.status.idle": "2022-08-07T15:32:57.875805Z",
     "shell.execute_reply": "2022-08-07T15:32:57.874990Z"
    },
    "papermill": {
     "duration": 0.017768,
     "end_time": "2022-08-07T15:32:57.877905",
     "exception": false,
     "start_time": "2022-08-07T15:32:57.860137",
     "status": "completed"
    },
    "tags": []
   },
   "outputs": [],
   "source": [
    "# so we see above that max no.of words in each sentence is 40\n",
    "max_len = 40"
   ]
  },
  {
   "cell_type": "code",
   "execution_count": 14,
   "id": "8dfcbab5",
   "metadata": {
    "execution": {
     "iopub.execute_input": "2022-08-07T15:32:57.899068Z",
     "iopub.status.busy": "2022-08-07T15:32:57.898349Z",
     "iopub.status.idle": "2022-08-07T15:32:57.920525Z",
     "shell.execute_reply": "2022-08-07T15:32:57.919734Z"
    },
    "papermill": {
     "duration": 0.035091,
     "end_time": "2022-08-07T15:32:57.922638",
     "exception": false,
     "start_time": "2022-08-07T15:32:57.887547",
     "status": "completed"
    },
    "tags": []
   },
   "outputs": [
    {
     "data": {
      "text/html": [
       "<div>\n",
       "<style scoped>\n",
       "    .dataframe tbody tr th:only-of-type {\n",
       "        vertical-align: middle;\n",
       "    }\n",
       "\n",
       "    .dataframe tbody tr th {\n",
       "        vertical-align: top;\n",
       "    }\n",
       "\n",
       "    .dataframe thead th {\n",
       "        text-align: right;\n",
       "    }\n",
       "</style>\n",
       "<table border=\"1\" class=\"dataframe\">\n",
       "  <thead>\n",
       "    <tr style=\"text-align: right;\">\n",
       "      <th></th>\n",
       "      <th>2</th>\n",
       "      <th>3</th>\n",
       "      <th>msg</th>\n",
       "      <th>n_words</th>\n",
       "      <th>Negative</th>\n",
       "      <th>Neutral</th>\n",
       "      <th>Positive</th>\n",
       "    </tr>\n",
       "  </thead>\n",
       "  <tbody>\n",
       "    <tr>\n",
       "      <th>0</th>\n",
       "      <td>Positive</td>\n",
       "      <td>im getting on borderlands and i will murder yo...</td>\n",
       "      <td>im getting borderland murder</td>\n",
       "      <td>4</td>\n",
       "      <td>0</td>\n",
       "      <td>0</td>\n",
       "      <td>1</td>\n",
       "    </tr>\n",
       "    <tr>\n",
       "      <th>1</th>\n",
       "      <td>Positive</td>\n",
       "      <td>I am coming to the borders and I will kill you...</td>\n",
       "      <td>coming border kill</td>\n",
       "      <td>3</td>\n",
       "      <td>0</td>\n",
       "      <td>0</td>\n",
       "      <td>1</td>\n",
       "    </tr>\n",
       "    <tr>\n",
       "      <th>2</th>\n",
       "      <td>Positive</td>\n",
       "      <td>im getting on borderlands and i will kill you ...</td>\n",
       "      <td>im getting borderland kill</td>\n",
       "      <td>4</td>\n",
       "      <td>0</td>\n",
       "      <td>0</td>\n",
       "      <td>1</td>\n",
       "    </tr>\n",
       "    <tr>\n",
       "      <th>3</th>\n",
       "      <td>Positive</td>\n",
       "      <td>im coming on borderlands and i will murder you...</td>\n",
       "      <td>im coming borderland murder</td>\n",
       "      <td>4</td>\n",
       "      <td>0</td>\n",
       "      <td>0</td>\n",
       "      <td>1</td>\n",
       "    </tr>\n",
       "    <tr>\n",
       "      <th>4</th>\n",
       "      <td>Positive</td>\n",
       "      <td>im getting on borderlands 2 and i will murder ...</td>\n",
       "      <td>im getting borderland murder</td>\n",
       "      <td>4</td>\n",
       "      <td>0</td>\n",
       "      <td>0</td>\n",
       "      <td>1</td>\n",
       "    </tr>\n",
       "  </tbody>\n",
       "</table>\n",
       "</div>"
      ],
      "text/plain": [
       "          2                                                  3  \\\n",
       "0  Positive  im getting on borderlands and i will murder yo...   \n",
       "1  Positive  I am coming to the borders and I will kill you...   \n",
       "2  Positive  im getting on borderlands and i will kill you ...   \n",
       "3  Positive  im coming on borderlands and i will murder you...   \n",
       "4  Positive  im getting on borderlands 2 and i will murder ...   \n",
       "\n",
       "                            msg  n_words  Negative  Neutral  Positive  \n",
       "0  im getting borderland murder        4         0        0         1  \n",
       "1            coming border kill        3         0        0         1  \n",
       "2    im getting borderland kill        4         0        0         1  \n",
       "3   im coming borderland murder        4         0        0         1  \n",
       "4  im getting borderland murder        4         0        0         1  "
      ]
     },
     "execution_count": 14,
     "metadata": {},
     "output_type": "execute_result"
    }
   ],
   "source": [
    "# now we need to one_hot encode the reviews\n",
    "sentiment = pd.get_dummies(data_2[2])\n",
    "data_3 = pd.concat([data_2,sentiment],axis=1)\n",
    "data_3.head()"
   ]
  },
  {
   "cell_type": "code",
   "execution_count": 15,
   "id": "59b50acc",
   "metadata": {
    "execution": {
     "iopub.execute_input": "2022-08-07T15:32:57.943612Z",
     "iopub.status.busy": "2022-08-07T15:32:57.943198Z",
     "iopub.status.idle": "2022-08-07T15:32:57.961971Z",
     "shell.execute_reply": "2022-08-07T15:32:57.960806Z"
    },
    "papermill": {
     "duration": 0.032212,
     "end_time": "2022-08-07T15:32:57.964513",
     "exception": false,
     "start_time": "2022-08-07T15:32:57.932301",
     "status": "completed"
    },
    "tags": []
   },
   "outputs": [],
   "source": [
    "# drop columns no longer needed \n",
    "data_3.drop(columns=[2,3,'n_words'],inplace=True)"
   ]
  },
  {
   "cell_type": "code",
   "execution_count": 16,
   "id": "c027f032",
   "metadata": {
    "execution": {
     "iopub.execute_input": "2022-08-07T15:32:57.986102Z",
     "iopub.status.busy": "2022-08-07T15:32:57.985642Z",
     "iopub.status.idle": "2022-08-07T15:33:06.496820Z",
     "shell.execute_reply": "2022-08-07T15:33:06.495588Z"
    },
    "papermill": {
     "duration": 8.526296,
     "end_time": "2022-08-07T15:33:06.500650",
     "exception": false,
     "start_time": "2022-08-07T15:32:57.974354",
     "status": "completed"
    },
    "tags": []
   },
   "outputs": [
    {
     "name": "stdout",
     "output_type": "stream",
     "text": [
      "Found 23091 unique tokens.\n"
     ]
    }
   ],
   "source": [
    "from keras.preprocessing.text import Tokenizer\n",
    "from keras.preprocessing.sequence import pad_sequences\n",
    "\n",
    "# now we will tokenize the words to sequence so that our model can understand\n",
    "# we will also pad the sentences with less than 40 words to make size of each sentence equal\n",
    "tokenizer = Tokenizer()\n",
    "tokenizer.fit_on_texts(data_3['msg'].values)\n",
    "sequences = tokenizer.texts_to_sequences(data_3['msg'].values)\n",
    "word_index = tokenizer.word_index\n",
    "print('Found %s unique tokens.' % len(word_index))\n",
    "X = pad_sequences(sequences, maxlen=max_len, padding='post')"
   ]
  },
  {
   "cell_type": "code",
   "execution_count": 17,
   "id": "5abe2613",
   "metadata": {
    "execution": {
     "iopub.execute_input": "2022-08-07T15:33:06.522635Z",
     "iopub.status.busy": "2022-08-07T15:33:06.521896Z",
     "iopub.status.idle": "2022-08-07T15:33:06.532139Z",
     "shell.execute_reply": "2022-08-07T15:33:06.530759Z"
    },
    "papermill": {
     "duration": 0.023797,
     "end_time": "2022-08-07T15:33:06.534534",
     "exception": false,
     "start_time": "2022-08-07T15:33:06.510737",
     "status": "completed"
    },
    "tags": []
   },
   "outputs": [
    {
     "data": {
      "text/plain": [
       "array([ 2107, 18661,  4716,  1599,   227,   495,   371, 17624,   298,\n",
       "           1,   179,   192,  4724,  7703,     0,     0,     0,     0,\n",
       "           0,     0,     0,     0,     0,     0,     0,     0,     0,\n",
       "           0,     0,     0,     0,     0,     0,     0,     0,     0,\n",
       "           0,     0,     0,     0], dtype=int32)"
      ]
     },
     "execution_count": 17,
     "metadata": {},
     "output_type": "execute_result"
    }
   ],
   "source": [
    "# lets see how is our output\n",
    "# here 0's at ending are defined due to the padding\n",
    "X[1000]"
   ]
  },
  {
   "cell_type": "code",
   "execution_count": 18,
   "id": "571e0c2d",
   "metadata": {
    "execution": {
     "iopub.execute_input": "2022-08-07T15:33:06.557362Z",
     "iopub.status.busy": "2022-08-07T15:33:06.556424Z",
     "iopub.status.idle": "2022-08-07T15:33:06.565549Z",
     "shell.execute_reply": "2022-08-07T15:33:06.564724Z"
    },
    "papermill": {
     "duration": 0.023,
     "end_time": "2022-08-07T15:33:06.567824",
     "exception": false,
     "start_time": "2022-08-07T15:33:06.544824",
     "status": "completed"
    },
    "tags": []
   },
   "outputs": [
    {
     "data": {
      "text/plain": [
       "(61121, 3)"
      ]
     },
     "execution_count": 18,
     "metadata": {},
     "output_type": "execute_result"
    }
   ],
   "source": [
    "# for target we will take postive, negative and neutral columns from data_3\n",
    "y=data_3[['Negative','Neutral','Positive']]\n",
    "y.shape"
   ]
  },
  {
   "cell_type": "code",
   "execution_count": 19,
   "id": "344b3689",
   "metadata": {
    "execution": {
     "iopub.execute_input": "2022-08-07T15:33:06.589904Z",
     "iopub.status.busy": "2022-08-07T15:33:06.589515Z",
     "iopub.status.idle": "2022-08-07T15:33:06.611296Z",
     "shell.execute_reply": "2022-08-07T15:33:06.610058Z"
    },
    "papermill": {
     "duration": 0.035601,
     "end_time": "2022-08-07T15:33:06.613706",
     "exception": false,
     "start_time": "2022-08-07T15:33:06.578105",
     "status": "completed"
    },
    "tags": []
   },
   "outputs": [
    {
     "data": {
      "text/plain": [
       "((60509, 40), (612, 40))"
      ]
     },
     "execution_count": 19,
     "metadata": {},
     "output_type": "execute_result"
    }
   ],
   "source": [
    "from sklearn.model_selection import train_test_split\n",
    "\n",
    "# splitting the data for training and testing\n",
    "X_train, X_test, y_train, y_test = train_test_split(X, y, test_size=0.01, random_state=42)\n",
    "X_train.shape,X_test.shape"
   ]
  },
  {
   "cell_type": "code",
   "execution_count": 20,
   "id": "c9f9770e",
   "metadata": {
    "execution": {
     "iopub.execute_input": "2022-08-07T15:33:06.636104Z",
     "iopub.status.busy": "2022-08-07T15:33:06.635015Z",
     "iopub.status.idle": "2022-08-07T15:33:06.698347Z",
     "shell.execute_reply": "2022-08-07T15:33:06.697548Z"
    },
    "papermill": {
     "duration": 0.077511,
     "end_time": "2022-08-07T15:33:06.701414",
     "exception": false,
     "start_time": "2022-08-07T15:33:06.623903",
     "status": "completed"
    },
    "tags": []
   },
   "outputs": [
    {
     "name": "stderr",
     "output_type": "stream",
     "text": [
      "2022-08-07 15:33:06.673731: I tensorflow/core/common_runtime/process_util.cc:146] Creating new thread pool with default inter op setting: 2. Tune using inter_op_parallelism_threads for best performance.\n"
     ]
    }
   ],
   "source": [
    "# initialize libraries for model creation\n",
    "from keras.models import Sequential\n",
    "from keras.layers import Dense, BatchNormalization, SpatialDropout1D, Embedding, LSTM\n",
    "model = Sequential()"
   ]
  },
  {
   "cell_type": "code",
   "execution_count": 21,
   "id": "608748da",
   "metadata": {
    "execution": {
     "iopub.execute_input": "2022-08-07T15:33:06.725800Z",
     "iopub.status.busy": "2022-08-07T15:33:06.724413Z",
     "iopub.status.idle": "2022-08-07T15:33:07.010060Z",
     "shell.execute_reply": "2022-08-07T15:33:07.008639Z"
    },
    "papermill": {
     "duration": 0.30057,
     "end_time": "2022-08-07T15:33:07.013490",
     "exception": false,
     "start_time": "2022-08-07T15:33:06.712920",
     "status": "completed"
    },
    "tags": []
   },
   "outputs": [
    {
     "name": "stdout",
     "output_type": "stream",
     "text": [
      "Model: \"sequential\"\n",
      "_________________________________________________________________\n",
      "Layer (type)                 Output Shape              Param #   \n",
      "=================================================================\n",
      "embedding (Embedding)        (None, 40, 50)            1154600   \n",
      "_________________________________________________________________\n",
      "spatial_dropout1d (SpatialDr (None, 40, 50)            0         \n",
      "_________________________________________________________________\n",
      "lstm (LSTM)                  (None, 50)                20200     \n",
      "_________________________________________________________________\n",
      "dense (Dense)                (None, 25)                1275      \n",
      "_________________________________________________________________\n",
      "dense_1 (Dense)              (None, 3)                 78        \n",
      "=================================================================\n",
      "Total params: 1,176,153\n",
      "Trainable params: 1,176,153\n",
      "Non-trainable params: 0\n",
      "_________________________________________________________________\n",
      "None\n"
     ]
    }
   ],
   "source": [
    "# now we create our model\n",
    "# here n_most_words = 23091(vocab_size)+1\n",
    "n_most_words = 23092\n",
    "n_dim = 50\n",
    "model.add(Embedding(n_most_words,n_dim,input_length = X_train.shape[1]))\n",
    "model.add(SpatialDropout1D(0.25))\n",
    "model.add(LSTM(50,dropout=0.25,recurrent_dropout=0.25))\n",
    "model.add(Dense(25,activation='relu'))\n",
    "model.add(Dense(3,activation='softmax'))\n",
    "model.compile(optimizer='adam', loss='categorical_crossentropy', metrics=['acc'])\n",
    "print(model.summary())"
   ]
  },
  {
   "cell_type": "code",
   "execution_count": 22,
   "id": "8124cdc2",
   "metadata": {
    "execution": {
     "iopub.execute_input": "2022-08-07T15:33:07.040960Z",
     "iopub.status.busy": "2022-08-07T15:33:07.040016Z",
     "iopub.status.idle": "2022-08-07T15:48:05.803769Z",
     "shell.execute_reply": "2022-08-07T15:48:05.802825Z"
    },
    "papermill": {
     "duration": 898.781038,
     "end_time": "2022-08-07T15:48:05.806967",
     "exception": false,
     "start_time": "2022-08-07T15:33:07.025929",
     "status": "completed"
    },
    "tags": []
   },
   "outputs": [
    {
     "name": "stdout",
     "output_type": "stream",
     "text": [
      "Epoch 1/30\n"
     ]
    },
    {
     "name": "stderr",
     "output_type": "stream",
     "text": [
      "2022-08-07 15:33:07.132543: I tensorflow/compiler/mlir/mlir_graph_optimization_pass.cc:185] None of the MLIR Optimization Passes are enabled (registered 2)\n"
     ]
    },
    {
     "name": "stdout",
     "output_type": "stream",
     "text": [
      "426/426 [==============================] - 74s 163ms/step - loss: 0.9668 - acc: 0.4879 - val_loss: 0.7614 - val_acc: 0.6667\n",
      "Epoch 2/30\n",
      "426/426 [==============================] - 69s 161ms/step - loss: 0.5647 - acc: 0.7784 - val_loss: 0.4548 - val_acc: 0.8285\n",
      "Epoch 3/30\n",
      "426/426 [==============================] - 69s 162ms/step - loss: 0.3719 - acc: 0.8647 - val_loss: 0.3806 - val_acc: 0.8569\n",
      "Epoch 4/30\n",
      "426/426 [==============================] - 70s 163ms/step - loss: 0.3040 - acc: 0.8873 - val_loss: 0.3883 - val_acc: 0.8658\n",
      "Epoch 5/30\n",
      "426/426 [==============================] - 68s 159ms/step - loss: 0.2679 - acc: 0.9013 - val_loss: 0.3427 - val_acc: 0.8732\n",
      "Epoch 6/30\n",
      "426/426 [==============================] - 68s 160ms/step - loss: 0.2418 - acc: 0.9078 - val_loss: 0.3374 - val_acc: 0.8810\n",
      "Epoch 7/30\n",
      "426/426 [==============================] - 69s 163ms/step - loss: 0.2214 - acc: 0.9137 - val_loss: 0.3396 - val_acc: 0.8784\n",
      "Epoch 8/30\n",
      "426/426 [==============================] - 68s 160ms/step - loss: 0.2080 - acc: 0.9189 - val_loss: 0.3173 - val_acc: 0.8823\n",
      "Epoch 9/30\n",
      "426/426 [==============================] - 70s 163ms/step - loss: 0.1961 - acc: 0.9233 - val_loss: 0.3603 - val_acc: 0.8799\n",
      "Epoch 10/30\n",
      "426/426 [==============================] - 69s 162ms/step - loss: 0.1853 - acc: 0.9259 - val_loss: 0.3316 - val_acc: 0.8883\n",
      "Epoch 11/30\n",
      "426/426 [==============================] - 68s 160ms/step - loss: 0.1767 - acc: 0.9295 - val_loss: 0.3325 - val_acc: 0.8860\n",
      "Epoch 12/30\n",
      "426/426 [==============================] - 69s 162ms/step - loss: 0.1710 - acc: 0.9308 - val_loss: 0.3270 - val_acc: 0.8903\n",
      "Epoch 13/30\n",
      "426/426 [==============================] - 68s 159ms/step - loss: 0.1627 - acc: 0.9333 - val_loss: 0.3367 - val_acc: 0.8904\n"
     ]
    }
   ],
   "source": [
    "from keras.callbacks import ModelCheckpoint, EarlyStopping\n",
    "checkpoint = ModelCheckpoint('weights.hdf5', monitor='val_loss', save_best_only=True)\n",
    "early_stop = EarlyStopping(patience=5)\n",
    "model_history = model.fit(X_train,y_train,epochs=30,validation_split = 0.1, batch_size = 128 ,callbacks=[checkpoint,early_stop])"
   ]
  },
  {
   "cell_type": "code",
   "execution_count": 23,
   "id": "3dc7e187",
   "metadata": {
    "execution": {
     "iopub.execute_input": "2022-08-07T15:48:06.496619Z",
     "iopub.status.busy": "2022-08-07T15:48:06.495911Z",
     "iopub.status.idle": "2022-08-07T15:48:33.570223Z",
     "shell.execute_reply": "2022-08-07T15:48:33.569102Z"
    },
    "papermill": {
     "duration": 27.424659,
     "end_time": "2022-08-07T15:48:33.573058",
     "exception": false,
     "start_time": "2022-08-07T15:48:06.148399",
     "status": "completed"
    },
    "tags": []
   },
   "outputs": [
    {
     "name": "stdout",
     "output_type": "stream",
     "text": [
      "20/20 [==============================] - 1s 28ms/step - loss: 0.2788 - acc: 0.9052\n",
      "Test set\n",
      "  Loss: 0.279\n",
      "  Accuracy: 0.905\n"
     ]
    }
   ],
   "source": [
    "# checking the model loss and accuracy\n",
    "model.load_weights('weights.hdf5')\n",
    "accr = model.evaluate(X_test,y_test)\n",
    "print('Test set\\n  Loss: {:0.3f}\\n  Accuracy: {:0.3f}'.format(accr[0],accr[1]))"
   ]
  },
  {
   "cell_type": "code",
   "execution_count": 24,
   "id": "7b3edddf",
   "metadata": {
    "execution": {
     "iopub.execute_input": "2022-08-07T15:48:34.318140Z",
     "iopub.status.busy": "2022-08-07T15:48:34.317707Z",
     "iopub.status.idle": "2022-08-07T15:48:34.323307Z",
     "shell.execute_reply": "2022-08-07T15:48:34.322066Z"
    },
    "papermill": {
     "duration": 0.350405,
     "end_time": "2022-08-07T15:48:34.325694",
     "exception": false,
     "start_time": "2022-08-07T15:48:33.975289",
     "status": "completed"
    },
    "tags": []
   },
   "outputs": [],
   "source": [
    "# visualizing the result \n",
    "acc = model_history.history['acc']\n",
    "val_acc = model_history.history['val_acc']\n",
    "loss = model_history.history['loss']\n",
    "val_loss = model_history.history['val_loss']"
   ]
  },
  {
   "cell_type": "code",
   "execution_count": 25,
   "id": "eadf38e5",
   "metadata": {
    "execution": {
     "iopub.execute_input": "2022-08-07T15:48:35.016000Z",
     "iopub.status.busy": "2022-08-07T15:48:35.015569Z",
     "iopub.status.idle": "2022-08-07T15:48:35.353992Z",
     "shell.execute_reply": "2022-08-07T15:48:35.352798Z"
    },
    "papermill": {
     "duration": 0.685875,
     "end_time": "2022-08-07T15:48:35.356557",
     "exception": false,
     "start_time": "2022-08-07T15:48:34.670682",
     "status": "completed"
    },
    "tags": []
   },
   "outputs": [
    {
     "data": {
      "image/png": "[encoded data removed]",
      "text/plain": [
       "<Figure size 1368x504 with 2 Axes>"
      ]
     },
     "metadata": {
      "needs_background": "light"
     },
     "output_type": "display_data"
    }
   ],
   "source": [
    "fig, ax = plt.subplots(nrows = 1, ncols = 2, figsize = (19,7))\n",
    "sns.set_style(\"darkgrid\")\n",
    "\n",
    "ax[0].plot(acc, '*-',label = 'Training accuracy')\n",
    "ax[0].plot(val_acc, '*-',label = 'Validation accuracy')\n",
    "ax[0].set_xlabel('Epochs')\n",
    "ax[0].set_ylabel('Accuracy')\n",
    "ax[0].set_title('Epochs & Training Accuracy', fontsize = 17)\n",
    "ax[0].legend(loc='best')\n",
    "\n",
    "\n",
    "ax[1].plot(loss, '*-',label = 'Training loss')\n",
    "ax[1].plot(val_loss, '*-',label = 'Validation loss')\n",
    "ax[1].set_xlabel('Epochs')\n",
    "ax[1].set_ylabel('loss')\n",
    "ax[1].set_title('Epochs & loss', fontsize = 17)\n",
    "ax[1].legend(loc='best')\n",
    "sns.set_style(\"darkgrid\")"
   ]
  },
  {
   "cell_type": "code",
   "execution_count": 26,
   "id": "4b54b2a4",
   "metadata": {
    "execution": {
     "iopub.execute_input": "2022-08-07T15:48:36.101095Z",
     "iopub.status.busy": "2022-08-07T15:48:36.100371Z",
     "iopub.status.idle": "2022-08-07T15:48:36.106416Z",
     "shell.execute_reply": "2022-08-07T15:48:36.105240Z"
    },
    "papermill": {
     "duration": 0.407133,
     "end_time": "2022-08-07T15:48:36.108438",
     "exception": false,
     "start_time": "2022-08-07T15:48:35.701305",
     "status": "completed"
    },
    "tags": []
   },
   "outputs": [],
   "source": [
    "# defining funtion to give us prediction of a sentence \n",
    "def find_sentiment(review):\n",
    "    seq = tokenizer.texts_to_sequences(review)\n",
    "    padded = pad_sequences(seq, maxlen=max_len)\n",
    "    pred = model.predict(padded)\n",
    "    label = ['Negative','Neutral','Positive']\n",
    "    return label[np.argmax(pred)]"
   ]
  },
  {
   "cell_type": "code",
   "execution_count": 27,
   "id": "9791ae3b",
   "metadata": {
    "execution": {
     "iopub.execute_input": "2022-08-07T15:48:36.802035Z",
     "iopub.status.busy": "2022-08-07T15:48:36.801394Z",
     "iopub.status.idle": "2022-08-07T15:48:36.808711Z",
     "shell.execute_reply": "2022-08-07T15:48:36.808004Z"
    },
    "papermill": {
     "duration": 0.355313,
     "end_time": "2022-08-07T15:48:36.810645",
     "exception": false,
     "start_time": "2022-08-07T15:48:36.455332",
     "status": "completed"
    },
    "tags": []
   },
   "outputs": [
    {
     "data": {
      "text/plain": [
       "0                                                 2578\n",
       "1                                          Borderlands\n",
       "2                                             Negative\n",
       "3    @ EpicGames @ 2K @ Steam Why add a crossplay f...\n",
       "Name: 1004, dtype: object"
      ]
     },
     "execution_count": 27,
     "metadata": {},
     "output_type": "execute_result"
    }
   ],
   "source": [
    "# checking with taining data\n",
    "data.iloc[1000]"
   ]
  },
  {
   "cell_type": "code",
   "execution_count": 28,
   "id": "08cfecf8",
   "metadata": {
    "execution": {
     "iopub.execute_input": "2022-08-07T15:48:37.592892Z",
     "iopub.status.busy": "2022-08-07T15:48:37.592095Z",
     "iopub.status.idle": "2022-08-07T15:48:38.005567Z",
     "shell.execute_reply": "2022-08-07T15:48:38.004016Z"
    },
    "papermill": {
     "duration": 0.855786,
     "end_time": "2022-08-07T15:48:38.009238",
     "exception": false,
     "start_time": "2022-08-07T15:48:37.153452",
     "status": "completed"
    },
    "tags": []
   },
   "outputs": [
    {
     "name": "stdout",
     "output_type": "stream",
     "text": [
      "Negative\n"
     ]
    }
   ],
   "source": [
    "# here we can find our output\n",
    "print(find_sentiment([\"@ EpicGames @ 2K @ Steam Why add a crossplay for @ Borderlands 3 if you're not going to make it compatible for the console?\"]))"
   ]
  },
  {
   "cell_type": "code",
   "execution_count": 29,
   "id": "7698dc35",
   "metadata": {
    "execution": {
     "iopub.execute_input": "2022-08-07T15:48:38.705531Z",
     "iopub.status.busy": "2022-08-07T15:48:38.704868Z",
     "iopub.status.idle": "2022-08-07T15:48:38.733957Z",
     "shell.execute_reply": "2022-08-07T15:48:38.733154Z"
    },
    "papermill": {
     "duration": 0.380061,
     "end_time": "2022-08-07T15:48:38.736144",
     "exception": false,
     "start_time": "2022-08-07T15:48:38.356083",
     "status": "completed"
    },
    "tags": []
   },
   "outputs": [
    {
     "data": {
      "text/html": [
       "<div>\n",
       "<style scoped>\n",
       "    .dataframe tbody tr th:only-of-type {\n",
       "        vertical-align: middle;\n",
       "    }\n",
       "\n",
       "    .dataframe tbody tr th {\n",
       "        vertical-align: top;\n",
       "    }\n",
       "\n",
       "    .dataframe thead th {\n",
       "        text-align: right;\n",
       "    }\n",
       "</style>\n",
       "<table border=\"1\" class=\"dataframe\">\n",
       "  <thead>\n",
       "    <tr style=\"text-align: right;\">\n",
       "      <th></th>\n",
       "      <th>0</th>\n",
       "      <th>1</th>\n",
       "      <th>2</th>\n",
       "      <th>3</th>\n",
       "    </tr>\n",
       "  </thead>\n",
       "  <tbody>\n",
       "    <tr>\n",
       "      <th>0</th>\n",
       "      <td>3364</td>\n",
       "      <td>Facebook</td>\n",
       "      <td>Irrelevant</td>\n",
       "      <td>I mentioned on Facebook that I was struggling ...</td>\n",
       "    </tr>\n",
       "    <tr>\n",
       "      <th>1</th>\n",
       "      <td>352</td>\n",
       "      <td>Amazon</td>\n",
       "      <td>Neutral</td>\n",
       "      <td>BBC News - Amazon boss Jeff Bezos rejects clai...</td>\n",
       "    </tr>\n",
       "    <tr>\n",
       "      <th>2</th>\n",
       "      <td>8312</td>\n",
       "      <td>Microsoft</td>\n",
       "      <td>Negative</td>\n",
       "      <td>@Microsoft Why do I pay for WORD when it funct...</td>\n",
       "    </tr>\n",
       "    <tr>\n",
       "      <th>3</th>\n",
       "      <td>4371</td>\n",
       "      <td>CS-GO</td>\n",
       "      <td>Negative</td>\n",
       "      <td>CSGO matchmaking is so full of closet hacking,...</td>\n",
       "    </tr>\n",
       "    <tr>\n",
       "      <th>4</th>\n",
       "      <td>4433</td>\n",
       "      <td>Google</td>\n",
       "      <td>Neutral</td>\n",
       "      <td>Now the President is slapping Americans in the...</td>\n",
       "    </tr>\n",
       "  </tbody>\n",
       "</table>\n",
       "</div>"
      ],
      "text/plain": [
       "      0          1           2  \\\n",
       "0  3364   Facebook  Irrelevant   \n",
       "1   352     Amazon     Neutral   \n",
       "2  8312  Microsoft    Negative   \n",
       "3  4371      CS-GO    Negative   \n",
       "4  4433     Google     Neutral   \n",
       "\n",
       "                                                   3  \n",
       "0  I mentioned on Facebook that I was struggling ...  \n",
       "1  BBC News - Amazon boss Jeff Bezos rejects clai...  \n",
       "2  @Microsoft Why do I pay for WORD when it funct...  \n",
       "3  CSGO matchmaking is so full of closet hacking,...  \n",
       "4  Now the President is slapping Americans in the...  "
      ]
     },
     "execution_count": 29,
     "metadata": {},
     "output_type": "execute_result"
    }
   ],
   "source": [
    "v_data = pd.read_csv('/kaggle/input/twitter-entity-sentiment-analysis/twitter_validation.csv',header=None)\n",
    "v_data.head()"
   ]
  },
  {
   "cell_type": "code",
   "execution_count": 30,
   "id": "9e4e41e5",
   "metadata": {
    "execution": {
     "iopub.execute_input": "2022-08-07T15:48:39.494926Z",
     "iopub.status.busy": "2022-08-07T15:48:39.494475Z",
     "iopub.status.idle": "2022-08-07T15:48:39.501255Z",
     "shell.execute_reply": "2022-08-07T15:48:39.499828Z"
    },
    "papermill": {
     "duration": 0.421307,
     "end_time": "2022-08-07T15:48:39.503633",
     "exception": false,
     "start_time": "2022-08-07T15:48:39.082326",
     "status": "completed"
    },
    "tags": []
   },
   "outputs": [],
   "source": [
    "# removing irrelavent from column 2 as we didnt use those to predict\n",
    "v_data = v_data[v_data[2]!='Irrelevant']"
   ]
  },
  {
   "cell_type": "code",
   "execution_count": 31,
   "id": "55375afd",
   "metadata": {
    "execution": {
     "iopub.execute_input": "2022-08-07T15:48:40.198823Z",
     "iopub.status.busy": "2022-08-07T15:48:40.198410Z",
     "iopub.status.idle": "2022-08-07T15:49:35.197373Z",
     "shell.execute_reply": "2022-08-07T15:49:35.196606Z"
    },
    "papermill": {
     "duration": 55.711446,
     "end_time": "2022-08-07T15:49:35.561145",
     "exception": false,
     "start_time": "2022-08-07T15:48:39.849699",
     "status": "completed"
    },
    "tags": []
   },
   "outputs": [
    {
     "data": {
      "text/html": [
       "<div>\n",
       "<style scoped>\n",
       "    .dataframe tbody tr th:only-of-type {\n",
       "        vertical-align: middle;\n",
       "    }\n",
       "\n",
       "    .dataframe tbody tr th {\n",
       "        vertical-align: top;\n",
       "    }\n",
       "\n",
       "    .dataframe thead th {\n",
       "        text-align: right;\n",
       "    }\n",
       "</style>\n",
       "<table border=\"1\" class=\"dataframe\">\n",
       "  <thead>\n",
       "    <tr style=\"text-align: right;\">\n",
       "      <th></th>\n",
       "      <th>0</th>\n",
       "      <th>1</th>\n",
       "      <th>2</th>\n",
       "      <th>3</th>\n",
       "      <th>predicted</th>\n",
       "    </tr>\n",
       "  </thead>\n",
       "  <tbody>\n",
       "    <tr>\n",
       "      <th>1</th>\n",
       "      <td>352</td>\n",
       "      <td>Amazon</td>\n",
       "      <td>Neutral</td>\n",
       "      <td>BBC News - Amazon boss Jeff Bezos rejects clai...</td>\n",
       "      <td>Negative</td>\n",
       "    </tr>\n",
       "    <tr>\n",
       "      <th>2</th>\n",
       "      <td>8312</td>\n",
       "      <td>Microsoft</td>\n",
       "      <td>Negative</td>\n",
       "      <td>@Microsoft Why do I pay for WORD when it funct...</td>\n",
       "      <td>Negative</td>\n",
       "    </tr>\n",
       "    <tr>\n",
       "      <th>3</th>\n",
       "      <td>4371</td>\n",
       "      <td>CS-GO</td>\n",
       "      <td>Negative</td>\n",
       "      <td>CSGO matchmaking is so full of closet hacking,...</td>\n",
       "      <td>Negative</td>\n",
       "    </tr>\n",
       "    <tr>\n",
       "      <th>4</th>\n",
       "      <td>4433</td>\n",
       "      <td>Google</td>\n",
       "      <td>Neutral</td>\n",
       "      <td>Now the President is slapping Americans in the...</td>\n",
       "      <td>Neutral</td>\n",
       "    </tr>\n",
       "    <tr>\n",
       "      <th>5</th>\n",
       "      <td>6273</td>\n",
       "      <td>FIFA</td>\n",
       "      <td>Negative</td>\n",
       "      <td>Hi @EAHelp I’ve had Madeleine McCann in my cel...</td>\n",
       "      <td>Negative</td>\n",
       "    </tr>\n",
       "    <tr>\n",
       "      <th>6</th>\n",
       "      <td>7925</td>\n",
       "      <td>MaddenNFL</td>\n",
       "      <td>Positive</td>\n",
       "      <td>Thank you @EAMaddenNFL!! \\n\\nNew TE Austin Hoo...</td>\n",
       "      <td>Positive</td>\n",
       "    </tr>\n",
       "    <tr>\n",
       "      <th>7</th>\n",
       "      <td>11332</td>\n",
       "      <td>TomClancysRainbowSix</td>\n",
       "      <td>Positive</td>\n",
       "      <td>Rocket League, Sea of Thieves or Rainbow Six: ...</td>\n",
       "      <td>Positive</td>\n",
       "    </tr>\n",
       "    <tr>\n",
       "      <th>8</th>\n",
       "      <td>1107</td>\n",
       "      <td>AssassinsCreed</td>\n",
       "      <td>Positive</td>\n",
       "      <td>my ass still knee-deep in Assassins Creed Odys...</td>\n",
       "      <td>Negative</td>\n",
       "    </tr>\n",
       "    <tr>\n",
       "      <th>9</th>\n",
       "      <td>2069</td>\n",
       "      <td>CallOfDuty</td>\n",
       "      <td>Negative</td>\n",
       "      <td>FIX IT JESUS ! Please FIX IT ! What In the wor...</td>\n",
       "      <td>Negative</td>\n",
       "    </tr>\n",
       "    <tr>\n",
       "      <th>10</th>\n",
       "      <td>3185</td>\n",
       "      <td>Dota2</td>\n",
       "      <td>Positive</td>\n",
       "      <td>The professional dota 2 scene is fucking explo...</td>\n",
       "      <td>Positive</td>\n",
       "    </tr>\n",
       "    <tr>\n",
       "      <th>11</th>\n",
       "      <td>1172</td>\n",
       "      <td>AssassinsCreed</td>\n",
       "      <td>Positive</td>\n",
       "      <td>Itching to assassinate \\n\\n#TCCGif #AssassinsC...</td>\n",
       "      <td>Positive</td>\n",
       "    </tr>\n",
       "    <tr>\n",
       "      <th>12</th>\n",
       "      <td>11783</td>\n",
       "      <td>Verizon</td>\n",
       "      <td>Negative</td>\n",
       "      <td>@FredTJoseph hey fred, Comcast cut the cable a...</td>\n",
       "      <td>Negative</td>\n",
       "    </tr>\n",
       "    <tr>\n",
       "      <th>13</th>\n",
       "      <td>4286</td>\n",
       "      <td>CS-GO</td>\n",
       "      <td>Neutral</td>\n",
       "      <td>CSGO WIngman (Im Silver dont bully) twitch.tv/...</td>\n",
       "      <td>Neutral</td>\n",
       "    </tr>\n",
       "    <tr>\n",
       "      <th>14</th>\n",
       "      <td>8431</td>\n",
       "      <td>NBA2K</td>\n",
       "      <td>Negative</td>\n",
       "      <td>@NBA2K game sucks... down by 2 with 38 seconds...</td>\n",
       "      <td>Negative</td>\n",
       "    </tr>\n",
       "    <tr>\n",
       "      <th>15</th>\n",
       "      <td>9135</td>\n",
       "      <td>Nvidia</td>\n",
       "      <td>Positive</td>\n",
       "      <td>Congrats to the NVIDIA NeMo team for the 1.0.0...</td>\n",
       "      <td>Positive</td>\n",
       "    </tr>\n",
       "    <tr>\n",
       "      <th>16</th>\n",
       "      <td>4822</td>\n",
       "      <td>GrandTheftAuto(GTA)</td>\n",
       "      <td>Positive</td>\n",
       "      <td>yeah and it’s fun</td>\n",
       "      <td>Negative</td>\n",
       "    </tr>\n",
       "    <tr>\n",
       "      <th>17</th>\n",
       "      <td>3068</td>\n",
       "      <td>Dota2</td>\n",
       "      <td>Negative</td>\n",
       "      <td>fuck my life 😆</td>\n",
       "      <td>Negative</td>\n",
       "    </tr>\n",
       "    <tr>\n",
       "      <th>18</th>\n",
       "      <td>10537</td>\n",
       "      <td>RedDeadRedemption(RDR)</td>\n",
       "      <td>Positive</td>\n",
       "      <td>happy birthday red dead redemption that shit c...</td>\n",
       "      <td>Positive</td>\n",
       "    </tr>\n",
       "    <tr>\n",
       "      <th>19</th>\n",
       "      <td>8056</td>\n",
       "      <td>Microsoft</td>\n",
       "      <td>Negative</td>\n",
       "      <td>What does that say about Microsoft hardware &amp; ...</td>\n",
       "      <td>Negative</td>\n",
       "    </tr>\n",
       "    <tr>\n",
       "      <th>20</th>\n",
       "      <td>2131</td>\n",
       "      <td>CallOfDuty</td>\n",
       "      <td>Negative</td>\n",
       "      <td>The new @CallofDuty for ps5 is 🔥🔥🔥🔥\\nOh God 😭😍</td>\n",
       "      <td>Negative</td>\n",
       "    </tr>\n",
       "  </tbody>\n",
       "</table>\n",
       "</div>"
      ],
      "text/plain": [
       "        0                       1         2  \\\n",
       "1     352                  Amazon   Neutral   \n",
       "2    8312               Microsoft  Negative   \n",
       "3    4371                   CS-GO  Negative   \n",
       "4    4433                  Google   Neutral   \n",
       "5    6273                    FIFA  Negative   \n",
       "6    7925               MaddenNFL  Positive   \n",
       "7   11332    TomClancysRainbowSix  Positive   \n",
       "8    1107          AssassinsCreed  Positive   \n",
       "9    2069              CallOfDuty  Negative   \n",
       "10   3185                   Dota2  Positive   \n",
       "11   1172          AssassinsCreed  Positive   \n",
       "12  11783                 Verizon  Negative   \n",
       "13   4286                   CS-GO   Neutral   \n",
       "14   8431                   NBA2K  Negative   \n",
       "15   9135                  Nvidia  Positive   \n",
       "16   4822     GrandTheftAuto(GTA)  Positive   \n",
       "17   3068                   Dota2  Negative   \n",
       "18  10537  RedDeadRedemption(RDR)  Positive   \n",
       "19   8056               Microsoft  Negative   \n",
       "20   2131              CallOfDuty  Negative   \n",
       "\n",
       "                                                    3 predicted  \n",
       "1   BBC News - Amazon boss Jeff Bezos rejects clai...  Negative  \n",
       "2   @Microsoft Why do I pay for WORD when it funct...  Negative  \n",
       "3   CSGO matchmaking is so full of closet hacking,...  Negative  \n",
       "4   Now the President is slapping Americans in the...   Neutral  \n",
       "5   Hi @EAHelp I’ve had Madeleine McCann in my cel...  Negative  \n",
       "6   Thank you @EAMaddenNFL!! \\n\\nNew TE Austin Hoo...  Positive  \n",
       "7   Rocket League, Sea of Thieves or Rainbow Six: ...  Positive  \n",
       "8   my ass still knee-deep in Assassins Creed Odys...  Negative  \n",
       "9   FIX IT JESUS ! Please FIX IT ! What In the wor...  Negative  \n",
       "10  The professional dota 2 scene is fucking explo...  Positive  \n",
       "11  Itching to assassinate \\n\\n#TCCGif #AssassinsC...  Positive  \n",
       "12  @FredTJoseph hey fred, Comcast cut the cable a...  Negative  \n",
       "13  CSGO WIngman (Im Silver dont bully) twitch.tv/...   Neutral  \n",
       "14  @NBA2K game sucks... down by 2 with 38 seconds...  Negative  \n",
       "15  Congrats to the NVIDIA NeMo team for the 1.0.0...  Positive  \n",
       "16                                  yeah and it’s fun  Negative  \n",
       "17                                     fuck my life 😆  Negative  \n",
       "18  happy birthday red dead redemption that shit c...  Positive  \n",
       "19  What does that say about Microsoft hardware & ...  Negative  \n",
       "20     The new @CallofDuty for ps5 is 🔥🔥🔥🔥\\nOh God 😭😍  Negative  "
      ]
     },
     "execution_count": 31,
     "metadata": {},
     "output_type": "execute_result"
    }
   ],
   "source": [
    "# finding the final prediction on validation set\n",
    "v_data['predicted'] = v_data[3].apply(lambda x:find_sentiment([x]))\n",
    "v_data.head(20)"
   ]
  },
  {
   "cell_type": "code",
   "execution_count": null,
   "id": "b374f3cc",
   "metadata": {
    "papermill": {
     "duration": 0.357668,
     "end_time": "2022-08-07T15:49:36.334921",
     "exception": false,
     "start_time": "2022-08-07T15:49:35.977253",
     "status": "completed"
    },
    "tags": []
   },
   "outputs": [],
   "source": []
  }
 ],
 "metadata": {
  "kernelspec": {
   "display_name": "Python 3",
   "language": "python",
   "name": "python3"
  },
  "language_info": {
   "codemirror_mode": {
    "name": "ipython",
    "version": 3
   },
   "file_extension": ".py",
   "mimetype": "text/x-python",
   "name": "python",
   "nbconvert_exporter": "python",
   "pygments_lexer": "ipython3",
   "version": "3.7.12"
  },
  "papermill": {
   "default_parameters": {},
   "duration": 1039.416861,
   "end_time": "2022-08-07T15:49:40.241804",
   "environment_variables": {},
   "exception": null,
   "input_path": "__notebook__.ipynb",
   "output_path": "__notebook__.ipynb",
   "parameters": {},
   "start_time": "2022-08-07T15:32:20.824943",
   "version": "2.3.4"
  }
 },
 "nbformat": 4,
 "nbformat_minor": 5
}
